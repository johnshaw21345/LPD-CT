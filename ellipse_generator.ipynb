{
 "cells": [
  {
   "cell_type": "code",
   "execution_count": 1,
   "metadata": {},
   "outputs": [],
   "source": [
    "import numpy as np\n",
    "from IPython.display import clear_output\n",
    "import matplotlib.pyplot as plt"
   ]
  },
  {
   "cell_type": "code",
   "execution_count": 2,
   "metadata": {},
   "outputs": [],
   "source": [
    "def ellipse(a,b,angle):\n",
    "    u = (np.cos(angle)**2/a**2 + np.sin(angle)**2/b**2)\n",
    "    v = 2*np.cos(angle)*np.sin(angle)*(a**-2 - b**-2)\n",
    "    w = (np.sin(angle)**2/a**2 + np.cos(angle)**2/b**2)\n",
    "\n",
    "    return u,v,w"
   ]
  },
  {
   "cell_type": "code",
   "execution_count": 7,
   "metadata": {},
   "outputs": [
    {
     "name": "stdout",
     "output_type": "stream",
     "text": [
      "10000\n"
     ]
    }
   ],
   "source": [
    "trainning = []\n",
    "\n",
    "while len(trainning) < 10000:\n",
    "    canvas = np.zeros([256,256])\n",
    "    for j in range(0,int(1 + np.random.binomial(5,0.5))):\n",
    "        angle = 0.001 + np.pi/2 * np.random.rand()\n",
    "        a = 16 + 96 * np.random.rand()\n",
    "        b = 16 + 96 * np.random.rand() \n",
    "        h = np.random.logistic(128,32)\n",
    "        k = np.random.logistic(128,32)\n",
    "        transparency = 300 + 200 * (np.random.rand() * 2 - 1)\n",
    "        u,v,w = ellipse(a,b,angle)\n",
    "        for x in range(0,256):\n",
    "            for y in range(0,256):\n",
    "                if u * (x-h)**2 + v *(x-h)*(y-k) + w * (y-k)**2 < 1:\n",
    "                    canvas[x,y] = canvas[x,y] + transparency\n",
    "    \n",
    "    if np.isnan(canvas).any() == False:\n",
    "        canvas = canvas / np.max(canvas)\n",
    "        trainning.append(canvas)\n",
    "    clear_output(wait=True)\n",
    "    print(len(trainning))\n",
    "    \n",
    "np.save('trainning_graph_256_256_10000', np.array(trainning))"
   ]
  }
 ],
 "metadata": {
  "kernelspec": {
   "display_name": "odl-py39-pt",
   "language": "python",
   "name": "python3"
  },
  "language_info": {
   "codemirror_mode": {
    "name": "ipython",
    "version": 3
   },
   "file_extension": ".py",
   "mimetype": "text/x-python",
   "name": "python",
   "nbconvert_exporter": "python",
   "pygments_lexer": "ipython3",
   "version": "3.9.18"
  }
 },
 "nbformat": 4,
 "nbformat_minor": 2
}
